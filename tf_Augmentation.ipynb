{
  "nbformat": 4,
  "nbformat_minor": 0,
  "metadata": {
    "colab": {
      "name": "tf_Augmentation.ipynb",
      "provenance": [],
      "authorship_tag": "ABX9TyOMowcdTsMNiDp6kAXRsGSm",
      "include_colab_link": true
    },
    "kernelspec": {
      "name": "python3",
      "display_name": "Python 3"
    },
    "language_info": {
      "name": "python"
    }
  },
  "cells": [
    {
      "cell_type": "markdown",
      "metadata": {
        "id": "view-in-github",
        "colab_type": "text"
      },
      "source": [
        "<a href=\"https://colab.research.google.com/github/AnswerinCode/tensorflow_study/blob/main/tf_Augmentation.ipynb\" target=\"_parent\"><img src=\"https://colab.research.google.com/assets/colab-badge.svg\" alt=\"Open In Colab\"/></a>"
      ]
    },
    {
      "cell_type": "code",
      "metadata": {
        "id": "hZMgQOYYe3tD"
      },
      "source": [
        "from tensorflow.keras.preprocessing.image import ImageDataGenerator\n",
        "\n",
        "# All images will be rescaled by 1./255\n",
        "train_datagen = ImageDataGenerator(\n",
        "      rescale=1./255,\n",
        "      rotation_range=40, # rotate image from 0 to 40 degrees\n",
        "      width_shift_range=0.2, # move image horizentally with 20% of entire pixels. If the image has 100 width pixels, move left or right 20 pixels.\n",
        "      height_shift_range=0.2, # move image vertically(up and down)\n",
        "      shear_range=0.2, # twist\n",
        "      zoom_range=0.2, \n",
        "      horizontal_flip=True, # mirroring with vertical axis(horizontal direction)\n",
        "      fill_mode='nearest')"
      ],
      "execution_count": null,
      "outputs": []
    }
  ]
}