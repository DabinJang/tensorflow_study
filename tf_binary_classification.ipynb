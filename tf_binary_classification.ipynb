{
  "nbformat": 4,
  "nbformat_minor": 0,
  "metadata": {
    "colab": {
      "name": "tf_binary_classification.ipynb",
      "provenance": [],
      "collapsed_sections": [],
      "authorship_tag": "ABX9TyOQHjEUyQ6Qp+C9nv5cScdp",
      "include_colab_link": true
    },
    "kernelspec": {
      "name": "python3",
      "display_name": "Python 3"
    },
    "language_info": {
      "name": "python"
    }
  },
  "cells": [
    {
      "cell_type": "markdown",
      "metadata": {
        "id": "view-in-github",
        "colab_type": "text"
      },
      "source": [
        "<a href=\"https://colab.research.google.com/github/AnswerinCode/tensorflow_study/blob/main/tf_binary_classification.ipynb\" target=\"_parent\"><img src=\"https://colab.research.google.com/assets/colab-badge.svg\" alt=\"Open In Colab\"/></a>"
      ]
    },
    {
      "cell_type": "markdown",
      "metadata": {
        "id": "R8mD5oR3X3ji"
      },
      "source": [
        "https://www.tensorflow.org/tutorials/keras/text_classification\n",
        "\n",
        "텐서플로 튜토리얼을 참고했습니다."
      ]
    },
    {
      "cell_type": "code",
      "metadata": {
        "colab": {
          "base_uri": "https://localhost:8080/"
        },
        "id": "PuOPjRvsXwQX",
        "outputId": "94f38ebb-2ee0-491b-c9ce-65a0be587543"
      },
      "source": [
        "import tensorflow as tf\n",
        "from tensorflow import keras\n",
        "import tensorflow.keras.layers as tfl\n",
        "import numpy as np\n",
        "print(tf.__version__)"
      ],
      "execution_count": 2,
      "outputs": [
        {
          "output_type": "stream",
          "name": "stdout",
          "text": [
            "2.6.0\n"
          ]
        }
      ]
    },
    {
      "cell_type": "markdown",
      "metadata": {
        "id": "ywV0wG4XYKql"
      },
      "source": [
        "#**imdb dataset**\n",
        "imdb는 각 단어가 해당하는 정수로 바뀐(a == 0, zulu = 9999 등등) 리뷰 문장과, 긍정/부정의 결과를 포함하는 라벨이 한쌍으로 이루어진 데이터셋입니다.\n",
        "\n",
        "단어가 정수로 바뀐 이유는 학습 효율성을 높이기 위해서입니다.\n",
        "imdb.load_data(num_words=k) 에서 num_words는 리뷰를 상위 k번째 단어까지만 포함하고 그 아래는 oov_char로 표현합니다.\n",
        "\n",
        "예를 들어 잘 쓰이지 않는 durian같은 경우 그대로 표현되지 않고 oov_char로 표현합니다.\n",
        "\n",
        "이는 학습 효율을 높이기 위함입니다.(특이한 단어에 과적합 방지)"
      ]
    },
    {
      "cell_type": "code",
      "metadata": {
        "colab": {
          "base_uri": "https://localhost:8080/"
        },
        "id": "IQGZTJpTXwUx",
        "outputId": "85a3ea12-d785-446e-ea46-28b8d1ec304f"
      },
      "source": [
        "imdb = keras.datasets.imdb\n",
        "(train_data, train_labels), (test_data, test_labels) = imdb.load_data(num_words=10000)"
      ],
      "execution_count": 3,
      "outputs": [
        {
          "output_type": "stream",
          "name": "stdout",
          "text": [
            "Downloading data from https://storage.googleapis.com/tensorflow/tf-keras-datasets/imdb.npz\n",
            "17465344/17464789 [==============================] - 1s 0us/step\n",
            "17473536/17464789 [==============================] - 1s 0us/step\n"
          ]
        }
      ]
    },
    {
      "cell_type": "markdown",
      "metadata": {
        "id": "bnpv5iInY7Hn"
      },
      "source": [
        "data를 확인합니다.\n"
      ]
    },
    {
      "cell_type": "code",
      "metadata": {
        "colab": {
          "base_uri": "https://localhost:8080/"
        },
        "id": "Clu_AX2CXwYP",
        "outputId": "790f380c-4590-457f-a226-c964df851306"
      },
      "source": [
        "print(\"train data shape: {}, train_labels_shape: {}\".format(train_data.shape, train_labels.shape))\n",
        "print(\"train data 0\\n\")\n",
        "for word in range(0,len(train_data[0]),10):\n",
        "    print(train_data[0][word:word+10])"
      ],
      "execution_count": 13,
      "outputs": [
        {
          "output_type": "stream",
          "name": "stdout",
          "text": [
            "train data shape: (25000,), train_labels_shape: (25000,)\n",
            "train data 0\n",
            "\n",
            "[1, 14, 22, 16, 43, 530, 973, 1622, 1385, 65]\n",
            "[458, 4468, 66, 3941, 4, 173, 36, 256, 5, 25]\n",
            "[100, 43, 838, 112, 50, 670, 2, 9, 35, 480]\n",
            "[284, 5, 150, 4, 172, 112, 167, 2, 336, 385]\n",
            "[39, 4, 172, 4536, 1111, 17, 546, 38, 13, 447]\n",
            "[4, 192, 50, 16, 6, 147, 2025, 19, 14, 22]\n",
            "[4, 1920, 4613, 469, 4, 22, 71, 87, 12, 16]\n",
            "[43, 530, 38, 76, 15, 13, 1247, 4, 22, 17]\n",
            "[515, 17, 12, 16, 626, 18, 2, 5, 62, 386]\n",
            "[12, 8, 316, 8, 106, 5, 4, 2223, 5244, 16]\n",
            "[480, 66, 3785, 33, 4, 130, 12, 16, 38, 619]\n",
            "[5, 25, 124, 51, 36, 135, 48, 25, 1415, 33]\n",
            "[6, 22, 12, 215, 28, 77, 52, 5, 14, 407]\n",
            "[16, 82, 2, 8, 4, 107, 117, 5952, 15, 256]\n",
            "[4, 2, 7, 3766, 5, 723, 36, 71, 43, 530]\n",
            "[476, 26, 400, 317, 46, 7, 4, 2, 1029, 13]\n",
            "[104, 88, 4, 381, 15, 297, 98, 32, 2071, 56]\n",
            "[26, 141, 6, 194, 7486, 18, 4, 226, 22, 21]\n",
            "[134, 476, 26, 480, 5, 144, 30, 5535, 18, 51]\n",
            "[36, 28, 224, 92, 25, 104, 4, 226, 65, 16]\n",
            "[38, 1334, 88, 12, 16, 283, 5, 16, 4472, 113]\n",
            "[103, 32, 15, 16, 5345, 19, 178, 32]\n"
          ]
        }
      ]
    },
    {
      "cell_type": "code",
      "metadata": {
        "colab": {
          "base_uri": "https://localhost:8080/"
        },
        "id": "YS_mDM73Xwcc",
        "outputId": "65cdf94d-e680-4c12-956f-ec48d7f3e677"
      },
      "source": [
        "for dt in range(5):\n",
        "    print(len(train_data[dt]), end=' ')\n",
        "print()\n",
        "print(max([len(i) for i in train_data]))"
      ],
      "execution_count": 6,
      "outputs": [
        {
          "output_type": "stream",
          "name": "stdout",
          "text": [
            "218 189 141 550 147 \n",
            "2494\n"
          ]
        }
      ]
    },
    {
      "cell_type": "markdown",
      "metadata": {
        "id": "wcFuHxNVZR6S"
      },
      "source": [
        "확인 결과 리뷰마다 길이가 다릅니다. 그리고 string이 아닌 int값으로 되어있습니다.\n",
        "따라서,\n",
        "\n",
        "1. input shape를 일정하게 만들어주는 데이터 전처리가 필요합니다.\n",
        "2. 리뷰를 글자로 볼 수 있어야 합니다."
      ]
    },
    {
      "cell_type": "markdown",
      "metadata": {
        "id": "IOdAZ2igZd7m"
      },
      "source": [
        "리뷰의 숫자를 단어로 다시 바꿀 수 있는 함수를 만들겠습니다.\n",
        "\n"
      ]
    },
    {
      "cell_type": "code",
      "metadata": {
        "colab": {
          "base_uri": "https://localhost:8080/"
        },
        "id": "4qsJLs9OZQ1E",
        "outputId": "7d48181c-ce5a-4a5f-8a74-e5f664eb408a"
      },
      "source": [
        "word_index = imdb.get_word_index()"
      ],
      "execution_count": 8,
      "outputs": [
        {
          "output_type": "stream",
          "name": "stdout",
          "text": [
            "Downloading data from https://storage.googleapis.com/tensorflow/tf-keras-datasets/imdb_word_index.json\n",
            "1646592/1641221 [==============================] - 0s 0us/step\n",
            "1654784/1641221 [==============================] - 0s 0us/step\n"
          ]
        }
      ]
    },
    {
      "cell_type": "markdown",
      "metadata": {
        "id": "fKI1TZxnZw5Z"
      },
      "source": [
        "key = word, value = index 인 dictionary입니다. n번째로 많이 포함되는 단어의 index는 n 입니다. \n",
        "\n",
        "따라서 index는 1부터 시작합니다.\n",
        "\n",
        "맨 앞에 직접 설정으로 4개 단어를 추가하고 싶기 때문에 dictionary의 index를 전체적으로 뒤로 4칸 밀겠습니다.\n"
      ]
    },
    {
      "cell_type": "code",
      "metadata": {
        "id": "G4cw-lWhZrgQ"
      },
      "source": [
        "word_index = {k:(v+3) for k,v in word_index.items()}\n",
        "word_index[\"<PAD>\"] = 0\n",
        "word_index[\"<START>\"] = 1\n",
        "word_index[\"<UNK>\"] = 2  # unknown\n",
        "word_index[\"<UNUSED>\"] = 3"
      ],
      "execution_count": 9,
      "outputs": []
    },
    {
      "cell_type": "markdown",
      "metadata": {
        "id": "fVc4Tht7aEyo"
      },
      "source": [
        "key = index, value = word 인 reversed_dictionary입니다."
      ]
    },
    {
      "cell_type": "code",
      "metadata": {
        "id": "craDt9SFaB8Y"
      },
      "source": [
        "reversed_word_index = dict([(value, key) for (key, value) in word_index.items()])"
      ],
      "execution_count": 14,
      "outputs": []
    },
    {
      "cell_type": "code",
      "metadata": {
        "id": "bVKUaU9udjQy"
      },
      "source": [
        "def decode_review(text):\n",
        "    return ' '.join([reversed_word_index.get(i, '?') for i in text])\n",
        "    # get() i가 있다면 i의 value를, 없다면 '?'를 리턴"
      ],
      "execution_count": 15,
      "outputs": []
    },
    {
      "cell_type": "markdown",
      "metadata": {
        "id": "ot8yeCpXds0W"
      },
      "source": [
        " 이걸로 리뷰를 글자로 볼 수 있게 되었습니다.\n"
      ]
    },
    {
      "cell_type": "code",
      "metadata": {
        "colab": {
          "base_uri": "https://localhost:8080/"
        },
        "id": "3-5AmnHXdt2X",
        "outputId": "f2d162aa-4924-4c5a-807a-98c403876325"
      },
      "source": [
        "print(decode_review(train_data[0]))"
      ],
      "execution_count": 16,
      "outputs": [
        {
          "output_type": "stream",
          "name": "stdout",
          "text": [
            "<START> this film was just brilliant casting location scenery story direction everyone's really suited the part they played and you could just imagine being there robert <UNK> is an amazing actor and now the same being director <UNK> father came from the same scottish island as myself so i loved the fact there was a real connection with this film the witty remarks throughout the film were great it was just brilliant so much that i bought the film as soon as it was released for <UNK> and would recommend it to everyone to watch and the fly fishing was amazing really cried at the end it was so sad and you know what they say if you cry at a film it must have been good and this definitely was also <UNK> to the two little boy's that played the <UNK> of norman and paul they were just brilliant children are often left out of the <UNK> list i think because the stars that play them all grown up are such a big profile for the whole film but these children are amazing and should be praised for what they have done don't you think the whole story was so lovely because it was true and was someone's life after all that was shared with us all\n"
          ]
        }
      ]
    },
    {
      "cell_type": "markdown",
      "metadata": {
        "id": "R0FaaeUed_Vn"
      },
      "source": [
        "data를 padding합니다.\n",
        "\n",
        "최대 길이를 256으로 정하고 256보다 짧은 문장의 경우 뒤('post')에 padding하겠습니다."
      ]
    },
    {
      "cell_type": "code",
      "metadata": {
        "id": "Q1Yk2uGGd4Kx"
      },
      "source": [
        "train_data = keras.preprocessing.sequence.pad_sequences(train_data,\n",
        "                                                        value=word_index[\"<PAD>\"],\n",
        "                                                        padding='post',\n",
        "                                                        maxlen=256)\n",
        "\n",
        "test_data = keras.preprocessing.sequence.pad_sequences(test_data,\n",
        "                                                       value=word_index[\"<PAD>\"],\n",
        "                                                       padding='post',\n",
        "                                                       maxlen=256)"
      ],
      "execution_count": 17,
      "outputs": []
    },
    {
      "cell_type": "code",
      "metadata": {
        "id": "rKIFZf1vedq9"
      },
      "source": [
        "# 위에서 단어를 상위 10000개만 불러왔기 때문에 사전 크기는 10000개입니다.\n",
        "vocab_size = 10000\n",
        "model = keras.Sequential([\n",
        "    # word embedding으로 여러 단어들을 16개의 특징으로 묶는다.\n",
        "    # 그리고 단어가 해당 특징을 얼마나 가지는지를 실수값으로 표현.\n",
        "    tfl.Embedding(vocab_size, 16, input_shape=(None,)),\n",
        "    # return (batch, sequence, embedding)\n",
        "\n",
        "    # global average pooling 1d는 두번째 차원에 대한 평균을 구해 반환합니다.\n",
        "    tfl.GlobalAveragePooling1D(),\n",
        "    # (batch, sequence, embedding) -> (batch, 1, embedding) -> (batch, embedding)\n",
        "\n",
        "    tfl.Dense(16, activation='relu'),\n",
        "    # 2진분류(1/0)를 할 예정이므로 sigmoid를 써줍시다.\n",
        "    tfl.Dense(1, activation='sigmoid')\n",
        "])"
      ],
      "execution_count": 18,
      "outputs": []
    },
    {
      "cell_type": "code",
      "metadata": {
        "colab": {
          "base_uri": "https://localhost:8080/"
        },
        "id": "IVSbvXKTd9qZ",
        "outputId": "942f6c14-6c3b-463e-dadf-e5a8a9f5d984"
      },
      "source": [
        "model.summary()\n"
      ],
      "execution_count": 25,
      "outputs": [
        {
          "output_type": "stream",
          "name": "stdout",
          "text": [
            "Model: \"sequential\"\n",
            "_________________________________________________________________\n",
            "Layer (type)                 Output Shape              Param #   \n",
            "=================================================================\n",
            "embedding (Embedding)        (None, None, 16)          160000    \n",
            "_________________________________________________________________\n",
            "global_average_pooling1d (Gl (None, 16)                0         \n",
            "_________________________________________________________________\n",
            "dense (Dense)                (None, 16)                272       \n",
            "_________________________________________________________________\n",
            "dense_1 (Dense)              (None, 1)                 17        \n",
            "=================================================================\n",
            "Total params: 160,289\n",
            "Trainable params: 160,289\n",
            "Non-trainable params: 0\n",
            "_________________________________________________________________\n"
          ]
        }
      ]
    },
    {
      "cell_type": "code",
      "metadata": {
        "id": "Cj2AzPwVeiBz"
      },
      "source": [
        "model.compile(optimizer='adam',\n",
        "              loss='binary_crossentropy',\n",
        "              metrics=['accuracy'])"
      ],
      "execution_count": 20,
      "outputs": []
    },
    {
      "cell_type": "code",
      "metadata": {
        "id": "7lq5y52LelFR"
      },
      "source": [
        "x_val = train_data[:10000]\n",
        "partial_x_train = train_data[10000:]\n",
        "\n",
        "y_val = train_labels[:10000]\n",
        "partial_y_train = train_labels[10000:]"
      ],
      "execution_count": 21,
      "outputs": []
    },
    {
      "cell_type": "code",
      "metadata": {
        "colab": {
          "base_uri": "https://localhost:8080/"
        },
        "id": "X1uz7Ay8en6g",
        "outputId": "ef170bb9-9827-4e65-bc1d-85464f8a5f8e"
      },
      "source": [
        "history = model.fit(partial_x_train,\n",
        "                    partial_y_train,\n",
        "                    epochs=40,\n",
        "                    batch_size=512,\n",
        "                    validation_data=(x_val, y_val),\n",
        "                    verbose=1)"
      ],
      "execution_count": 22,
      "outputs": [
        {
          "output_type": "stream",
          "name": "stdout",
          "text": [
            "Epoch 1/40\n",
            "30/30 [==============================] - 2s 22ms/step - loss: 0.6918 - accuracy: 0.6108 - val_loss: 0.6899 - val_accuracy: 0.6926\n",
            "Epoch 2/40\n",
            "30/30 [==============================] - 0s 16ms/step - loss: 0.6864 - accuracy: 0.7135 - val_loss: 0.6826 - val_accuracy: 0.7045\n",
            "Epoch 3/40\n",
            "30/30 [==============================] - 0s 16ms/step - loss: 0.6759 - accuracy: 0.7429 - val_loss: 0.6698 - val_accuracy: 0.7558\n",
            "Epoch 4/40\n",
            "30/30 [==============================] - 1s 17ms/step - loss: 0.6579 - accuracy: 0.7759 - val_loss: 0.6490 - val_accuracy: 0.7541\n",
            "Epoch 5/40\n",
            "30/30 [==============================] - 1s 17ms/step - loss: 0.6311 - accuracy: 0.7859 - val_loss: 0.6208 - val_accuracy: 0.7822\n",
            "Epoch 6/40\n",
            "30/30 [==============================] - 1s 17ms/step - loss: 0.5955 - accuracy: 0.8074 - val_loss: 0.5840 - val_accuracy: 0.7975\n",
            "Epoch 7/40\n",
            "30/30 [==============================] - 0s 17ms/step - loss: 0.5527 - accuracy: 0.8213 - val_loss: 0.5434 - val_accuracy: 0.8110\n",
            "Epoch 8/40\n",
            "30/30 [==============================] - 0s 16ms/step - loss: 0.5076 - accuracy: 0.8371 - val_loss: 0.5034 - val_accuracy: 0.8246\n",
            "Epoch 9/40\n",
            "30/30 [==============================] - 0s 17ms/step - loss: 0.4639 - accuracy: 0.8524 - val_loss: 0.4659 - val_accuracy: 0.8374\n",
            "Epoch 10/40\n",
            "30/30 [==============================] - 0s 16ms/step - loss: 0.4244 - accuracy: 0.8641 - val_loss: 0.4333 - val_accuracy: 0.8467\n",
            "Epoch 11/40\n",
            "30/30 [==============================] - 1s 17ms/step - loss: 0.3897 - accuracy: 0.8749 - val_loss: 0.4062 - val_accuracy: 0.8526\n",
            "Epoch 12/40\n",
            "30/30 [==============================] - 1s 17ms/step - loss: 0.3602 - accuracy: 0.8828 - val_loss: 0.3834 - val_accuracy: 0.8585\n",
            "Epoch 13/40\n",
            "30/30 [==============================] - 1s 17ms/step - loss: 0.3354 - accuracy: 0.8889 - val_loss: 0.3651 - val_accuracy: 0.8640\n",
            "Epoch 14/40\n",
            "30/30 [==============================] - 0s 16ms/step - loss: 0.3137 - accuracy: 0.8945 - val_loss: 0.3505 - val_accuracy: 0.8690\n",
            "Epoch 15/40\n",
            "30/30 [==============================] - 1s 17ms/step - loss: 0.2950 - accuracy: 0.9005 - val_loss: 0.3386 - val_accuracy: 0.8705\n",
            "Epoch 16/40\n",
            "30/30 [==============================] - 1s 17ms/step - loss: 0.2790 - accuracy: 0.9032 - val_loss: 0.3280 - val_accuracy: 0.8753\n",
            "Epoch 17/40\n",
            "30/30 [==============================] - 0s 17ms/step - loss: 0.2644 - accuracy: 0.9097 - val_loss: 0.3196 - val_accuracy: 0.8769\n",
            "Epoch 18/40\n",
            "30/30 [==============================] - 0s 16ms/step - loss: 0.2510 - accuracy: 0.9135 - val_loss: 0.3128 - val_accuracy: 0.8784\n",
            "Epoch 19/40\n",
            "30/30 [==============================] - 0s 17ms/step - loss: 0.2392 - accuracy: 0.9188 - val_loss: 0.3070 - val_accuracy: 0.8787\n",
            "Epoch 20/40\n",
            "30/30 [==============================] - 1s 17ms/step - loss: 0.2285 - accuracy: 0.9215 - val_loss: 0.3024 - val_accuracy: 0.8813\n",
            "Epoch 21/40\n",
            "30/30 [==============================] - 0s 16ms/step - loss: 0.2183 - accuracy: 0.9252 - val_loss: 0.2980 - val_accuracy: 0.8812\n",
            "Epoch 22/40\n",
            "30/30 [==============================] - 0s 16ms/step - loss: 0.2088 - accuracy: 0.9285 - val_loss: 0.2944 - val_accuracy: 0.8836\n",
            "Epoch 23/40\n",
            "30/30 [==============================] - 0s 17ms/step - loss: 0.2004 - accuracy: 0.9319 - val_loss: 0.2927 - val_accuracy: 0.8832\n",
            "Epoch 24/40\n",
            "30/30 [==============================] - 1s 17ms/step - loss: 0.1921 - accuracy: 0.9350 - val_loss: 0.2896 - val_accuracy: 0.8847\n",
            "Epoch 25/40\n",
            "30/30 [==============================] - 0s 17ms/step - loss: 0.1843 - accuracy: 0.9387 - val_loss: 0.2879 - val_accuracy: 0.8841\n",
            "Epoch 26/40\n",
            "30/30 [==============================] - 0s 17ms/step - loss: 0.1769 - accuracy: 0.9425 - val_loss: 0.2870 - val_accuracy: 0.8848\n",
            "Epoch 27/40\n",
            "30/30 [==============================] - 1s 17ms/step - loss: 0.1700 - accuracy: 0.9463 - val_loss: 0.2862 - val_accuracy: 0.8845\n",
            "Epoch 28/40\n",
            "30/30 [==============================] - 0s 17ms/step - loss: 0.1636 - accuracy: 0.9480 - val_loss: 0.2859 - val_accuracy: 0.8843\n",
            "Epoch 29/40\n",
            "30/30 [==============================] - 0s 16ms/step - loss: 0.1573 - accuracy: 0.9506 - val_loss: 0.2857 - val_accuracy: 0.8854\n",
            "Epoch 30/40\n",
            "30/30 [==============================] - 1s 17ms/step - loss: 0.1514 - accuracy: 0.9534 - val_loss: 0.2858 - val_accuracy: 0.8851\n",
            "Epoch 31/40\n",
            "30/30 [==============================] - 0s 17ms/step - loss: 0.1457 - accuracy: 0.9553 - val_loss: 0.2864 - val_accuracy: 0.8856\n",
            "Epoch 32/40\n",
            "30/30 [==============================] - 1s 17ms/step - loss: 0.1405 - accuracy: 0.9581 - val_loss: 0.2871 - val_accuracy: 0.8855\n",
            "Epoch 33/40\n",
            "30/30 [==============================] - 1s 17ms/step - loss: 0.1354 - accuracy: 0.9602 - val_loss: 0.2881 - val_accuracy: 0.8863\n",
            "Epoch 34/40\n",
            "30/30 [==============================] - 1s 17ms/step - loss: 0.1310 - accuracy: 0.9613 - val_loss: 0.2900 - val_accuracy: 0.8859\n",
            "Epoch 35/40\n",
            "30/30 [==============================] - 1s 17ms/step - loss: 0.1261 - accuracy: 0.9638 - val_loss: 0.2935 - val_accuracy: 0.8831\n",
            "Epoch 36/40\n",
            "30/30 [==============================] - 0s 17ms/step - loss: 0.1219 - accuracy: 0.9649 - val_loss: 0.2924 - val_accuracy: 0.8871\n",
            "Epoch 37/40\n",
            "30/30 [==============================] - 1s 17ms/step - loss: 0.1169 - accuracy: 0.9670 - val_loss: 0.2946 - val_accuracy: 0.8861\n",
            "Epoch 38/40\n",
            "30/30 [==============================] - 0s 16ms/step - loss: 0.1128 - accuracy: 0.9683 - val_loss: 0.2962 - val_accuracy: 0.8865\n",
            "Epoch 39/40\n",
            "30/30 [==============================] - 1s 17ms/step - loss: 0.1089 - accuracy: 0.9701 - val_loss: 0.2987 - val_accuracy: 0.8855\n",
            "Epoch 40/40\n",
            "30/30 [==============================] - 1s 17ms/step - loss: 0.1049 - accuracy: 0.9721 - val_loss: 0.3015 - val_accuracy: 0.8841\n"
          ]
        }
      ]
    },
    {
      "cell_type": "code",
      "metadata": {
        "colab": {
          "base_uri": "https://localhost:8080/"
        },
        "id": "QnpjDWNxeq13",
        "outputId": "d944a2d2-8f6d-4cb8-92dd-5de6d1a68cf6"
      },
      "source": [
        "results = model.evaluate(test_data,  test_labels, verbose=2)\n"
      ],
      "execution_count": 23,
      "outputs": [
        {
          "output_type": "stream",
          "name": "stdout",
          "text": [
            "782/782 - 1s - loss: 0.3211 - accuracy: 0.8731\n"
          ]
        }
      ]
    },
    {
      "cell_type": "code",
      "metadata": {
        "colab": {
          "base_uri": "https://localhost:8080/"
        },
        "id": "OIj2ONzFeyAZ",
        "outputId": "d1d8016a-4b8b-4518-e914-011d38c5b159"
      },
      "source": [
        "history_dict = history.history\n",
        "history_dict.keys()"
      ],
      "execution_count": 26,
      "outputs": [
        {
          "output_type": "execute_result",
          "data": {
            "text/plain": [
              "dict_keys(['loss', 'accuracy', 'val_loss', 'val_accuracy'])"
            ]
          },
          "metadata": {},
          "execution_count": 26
        }
      ]
    },
    {
      "cell_type": "code",
      "metadata": {
        "colab": {
          "base_uri": "https://localhost:8080/",
          "height": 573
        },
        "id": "ZR4Z9rGHeyip",
        "outputId": "0a1a33e7-d957-4321-c7e9-4bb98e3afd2c"
      },
      "source": [
        "# 그래프로 확인해봅시다.\n",
        "import matplotlib.pyplot as plt\n",
        "\n",
        "acc = history_dict['accuracy']\n",
        "val_acc = history_dict['val_accuracy']\n",
        "loss = history_dict['loss']\n",
        "val_loss = history_dict['val_loss']\n",
        "\n",
        "epochs = range(1, len(acc) + 1)\n",
        "\n",
        "# \"bo\"는 \"파란색 점\"입니다\n",
        "plt.plot(epochs, loss, 'bo', label='Training loss')\n",
        "# b는 \"파란 실선\"입니다\n",
        "plt.plot(epochs, val_loss, 'b', label='Validation loss')\n",
        "plt.title('Training and validation loss')\n",
        "plt.xlabel('Epochs')\n",
        "plt.ylabel('Loss')\n",
        "plt.legend()\n",
        "\n",
        "plt.show()\n",
        "\n",
        "plt.clf()   # 그림을 초기화합니다\n",
        "\n",
        "plt.plot(epochs, acc, 'bo', label='Training acc')\n",
        "plt.plot(epochs, val_acc, 'b', label='Validation acc')\n",
        "plt.title('Training and validation accuracy')\n",
        "plt.xlabel('Epochs')\n",
        "plt.ylabel('Accuracy')\n",
        "plt.legend()\n",
        "plt.show()"
      ],
      "execution_count": 27,
      "outputs": [
        {
          "output_type": "display_data",
          "data": {
            "image/png": "[encoded data removed]",
            "text/plain": [
              "<Figure size 432x288 with 1 Axes>"
            ]
          },
          "metadata": {
            "needs_background": "light"
          }
        },
        {
          "output_type": "display_data",
          "data": {
            "image/png": "[encoded data removed]",
            "text/plain": [
              "<Figure size 432x288 with 1 Axes>"
            ]
          },
          "metadata": {
            "needs_background": "light"
          }
        }
      ]
    },
    {
      "cell_type": "code",
      "metadata": {
        "id": "peYXEHWce9kZ"
      },
      "source": [
        ""
      ],
      "execution_count": null,
      "outputs": []
    }
  ]
}